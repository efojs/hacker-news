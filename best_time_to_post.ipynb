{
 "cells": [
  {
   "cell_type": "code",
   "execution_count": 15,
   "metadata": {},
   "outputs": [],
   "source": [
    "import json\n",
    "import pandas as pd\n",
    "import time\n",
    "from datetime import datetime"
   ]
  },
  {
   "cell_type": "markdown",
   "metadata": {},
   "source": [
    "## Load raw data"
   ]
  },
  {
   "cell_type": "code",
   "execution_count": 16,
   "metadata": {},
   "outputs": [],
   "source": [
    "# read file\n",
    "with open('./data/fetched_stories.json', 'r') as f:\n",
    "    stories = json.load(f)"
   ]
  },
  {
   "cell_type": "code",
   "execution_count": 17,
   "metadata": {},
   "outputs": [
    {
     "data": {
      "text/plain": [
       "{'by': 'floppydiskette',\n",
       " 'descendants': 0,\n",
       " 'id': 21692450,\n",
       " 'score': 4,\n",
       " 'time': 1575383073,\n",
       " 'title': 'CSS: An Art, a Science, a Nightmare',\n",
       " 'type': 'story',\n",
       " 'url': 'https://www.taniarascia.com/overview-of-css-concepts/'}"
      ]
     },
     "execution_count": 17,
     "metadata": {},
     "output_type": "execute_result"
    }
   ],
   "source": [
    "stories[list(stories.keys())[-1:][0]]"
   ]
  },
  {
   "cell_type": "markdown",
   "metadata": {},
   "source": [
    "## Prepare data"
   ]
  },
  {
   "cell_type": "code",
   "execution_count": 18,
   "metadata": {},
   "outputs": [],
   "source": [
    "# create DataFrame from raw JSON\n",
    "stories_df = pd.DataFrame(stories.values())"
   ]
  },
  {
   "cell_type": "code",
   "execution_count": 19,
   "metadata": {},
   "outputs": [],
   "source": [
    "# sort data by ID\n",
    "stories_df.sort_values(by=\"id\", inplace=True)"
   ]
  },
  {
   "cell_type": "code",
   "execution_count": 20,
   "metadata": {},
   "outputs": [
    {
     "data": {
      "text/plain": [
       "(True, True)"
      ]
     },
     "execution_count": 20,
     "metadata": {},
     "output_type": "execute_result"
    }
   ],
   "source": [
    "# check order\n",
    "stories_df.id.is_monotonic, stories_df.time.is_monotonic"
   ]
  },
  {
   "cell_type": "code",
   "execution_count": 21,
   "metadata": {},
   "outputs": [
    {
     "data": {
      "text/html": [
       "<div>\n",
       "<style scoped>\n",
       "    .dataframe tbody tr th:only-of-type {\n",
       "        vertical-align: middle;\n",
       "    }\n",
       "\n",
       "    .dataframe tbody tr th {\n",
       "        vertical-align: top;\n",
       "    }\n",
       "\n",
       "    .dataframe thead th {\n",
       "        text-align: right;\n",
       "    }\n",
       "</style>\n",
       "<table border=\"1\" class=\"dataframe\">\n",
       "  <thead>\n",
       "    <tr style=\"text-align: right;\">\n",
       "      <th></th>\n",
       "      <th>by</th>\n",
       "      <th>descendants</th>\n",
       "      <th>id</th>\n",
       "      <th>score</th>\n",
       "      <th>time</th>\n",
       "      <th>title</th>\n",
       "      <th>type</th>\n",
       "      <th>url</th>\n",
       "      <th>kids</th>\n",
       "      <th>text</th>\n",
       "    </tr>\n",
       "  </thead>\n",
       "  <tbody>\n",
       "    <tr>\n",
       "      <th>79538</th>\n",
       "      <td>chrjs</td>\n",
       "      <td>0</td>\n",
       "      <td>21692420</td>\n",
       "      <td>2</td>\n",
       "      <td>1575382877</td>\n",
       "      <td>Show HN: Squote – Semantic Quote Search</td>\n",
       "      <td>story</td>\n",
       "      <td>https://squote.xyz/</td>\n",
       "      <td>[21692436]</td>\n",
       "      <td>NaN</td>\n",
       "    </tr>\n",
       "    <tr>\n",
       "      <th>79539</th>\n",
       "      <td>TakakiTohno</td>\n",
       "      <td>0</td>\n",
       "      <td>21692430</td>\n",
       "      <td>1</td>\n",
       "      <td>1575382970</td>\n",
       "      <td>Synthetic Voices Are Changing the Gaming Industry</td>\n",
       "      <td>story</td>\n",
       "      <td>https://www.keengamer.com/keengamer-blogs/tech...</td>\n",
       "      <td>NaN</td>\n",
       "      <td>NaN</td>\n",
       "    </tr>\n",
       "    <tr>\n",
       "      <th>79540</th>\n",
       "      <td>algorithm314</td>\n",
       "      <td>0</td>\n",
       "      <td>21692447</td>\n",
       "      <td>1</td>\n",
       "      <td>1575383048</td>\n",
       "      <td>Think Silicon demonstrates RISC-V ISA Based 3D...</td>\n",
       "      <td>story</td>\n",
       "      <td>https://think-silicon.com/2019/12/02/think-sil...</td>\n",
       "      <td>NaN</td>\n",
       "      <td>NaN</td>\n",
       "    </tr>\n",
       "    <tr>\n",
       "      <th>79541</th>\n",
       "      <td>cj</td>\n",
       "      <td>0</td>\n",
       "      <td>21692449</td>\n",
       "      <td>3</td>\n",
       "      <td>1575383072</td>\n",
       "      <td>I almost sold Baremetrics for $5m</td>\n",
       "      <td>story</td>\n",
       "      <td>https://baremetrics.com/blog/i-almost-sold-bar...</td>\n",
       "      <td>NaN</td>\n",
       "      <td>NaN</td>\n",
       "    </tr>\n",
       "    <tr>\n",
       "      <th>79542</th>\n",
       "      <td>floppydiskette</td>\n",
       "      <td>0</td>\n",
       "      <td>21692450</td>\n",
       "      <td>4</td>\n",
       "      <td>1575383073</td>\n",
       "      <td>CSS: An Art, a Science, a Nightmare</td>\n",
       "      <td>story</td>\n",
       "      <td>https://www.taniarascia.com/overview-of-css-co...</td>\n",
       "      <td>NaN</td>\n",
       "      <td>NaN</td>\n",
       "    </tr>\n",
       "  </tbody>\n",
       "</table>\n",
       "</div>"
      ],
      "text/plain": [
       "                   by  descendants        id  score        time  \\\n",
       "79538           chrjs            0  21692420      2  1575382877   \n",
       "79539     TakakiTohno            0  21692430      1  1575382970   \n",
       "79540    algorithm314            0  21692447      1  1575383048   \n",
       "79541              cj            0  21692449      3  1575383072   \n",
       "79542  floppydiskette            0  21692450      4  1575383073   \n",
       "\n",
       "                                                   title   type  \\\n",
       "79538            Show HN: Squote – Semantic Quote Search  story   \n",
       "79539  Synthetic Voices Are Changing the Gaming Industry  story   \n",
       "79540  Think Silicon demonstrates RISC-V ISA Based 3D...  story   \n",
       "79541                  I almost sold Baremetrics for $5m  story   \n",
       "79542                CSS: An Art, a Science, a Nightmare  story   \n",
       "\n",
       "                                                     url        kids text  \n",
       "79538                                https://squote.xyz/  [21692436]  NaN  \n",
       "79539  https://www.keengamer.com/keengamer-blogs/tech...         NaN  NaN  \n",
       "79540  https://think-silicon.com/2019/12/02/think-sil...         NaN  NaN  \n",
       "79541  https://baremetrics.com/blog/i-almost-sold-bar...         NaN  NaN  \n",
       "79542  https://www.taniarascia.com/overview-of-css-co...         NaN  NaN  "
      ]
     },
     "execution_count": 21,
     "metadata": {},
     "output_type": "execute_result"
    }
   ],
   "source": [
    "stories_df.tail()"
   ]
  },
  {
   "cell_type": "markdown",
   "metadata": {},
   "source": [
    "## Make timeseries data set"
   ]
  },
  {
   "cell_type": "code",
   "execution_count": 22,
   "metadata": {},
   "outputs": [],
   "source": [
    "data = stories_df[['score', 'id']].copy(deep=True)"
   ]
  },
  {
   "cell_type": "code",
   "execution_count": 23,
   "metadata": {},
   "outputs": [],
   "source": [
    "times = pd.to_datetime(stories_df.time, unit='s')"
   ]
  },
  {
   "cell_type": "code",
   "execution_count": 24,
   "metadata": {},
   "outputs": [
    {
     "data": {
      "text/plain": [
       "Timestamp('2019-08-29 19:02:49')"
      ]
     },
     "execution_count": 24,
     "metadata": {},
     "output_type": "execute_result"
    }
   ],
   "source": [
    "data.index = times\n",
    "data.index[0]"
   ]
  },
  {
   "cell_type": "code",
   "execution_count": 25,
   "metadata": {},
   "outputs": [
    {
     "data": {
      "text/plain": [
       "<matplotlib.axes._subplots.AxesSubplot at 0x11d934350>"
      ]
     },
     "execution_count": 25,
     "metadata": {},
     "output_type": "execute_result"
    },
    {
     "data": {
      "image/png": "[encoded data removed]",
      "text/plain": [
       "<Figure size 432x288 with 1 Axes>"
      ]
     },
     "metadata": {
      "needs_background": "light"
     },
     "output_type": "display_data"
    }
   ],
   "source": [
    "data['score'].plot()"
   ]
  },
  {
   "cell_type": "code",
   "execution_count": 26,
   "metadata": {},
   "outputs": [
    {
     "data": {
      "text/plain": [
       "79543"
      ]
     },
     "execution_count": 26,
     "metadata": {},
     "output_type": "execute_result"
    }
   ],
   "source": [
    "len(data)"
   ]
  },
  {
   "cell_type": "code",
   "execution_count": 27,
   "metadata": {
    "scrolled": false
   },
   "outputs": [
    {
     "data": {
      "text/html": [
       "<div>\n",
       "<style scoped>\n",
       "    .dataframe tbody tr th:only-of-type {\n",
       "        vertical-align: middle;\n",
       "    }\n",
       "\n",
       "    .dataframe tbody tr th {\n",
       "        vertical-align: top;\n",
       "    }\n",
       "\n",
       "    .dataframe thead th {\n",
       "        text-align: right;\n",
       "    }\n",
       "</style>\n",
       "<table border=\"1\" class=\"dataframe\">\n",
       "  <thead>\n",
       "    <tr style=\"text-align: right;\">\n",
       "      <th></th>\n",
       "      <th>score</th>\n",
       "      <th>id</th>\n",
       "    </tr>\n",
       "    <tr>\n",
       "      <th>time</th>\n",
       "      <th></th>\n",
       "      <th></th>\n",
       "    </tr>\n",
       "  </thead>\n",
       "  <tbody>\n",
       "    <tr>\n",
       "      <th>2019-08-29 19:02:49</th>\n",
       "      <td>3</td>\n",
       "      <td>20832555</td>\n",
       "    </tr>\n",
       "    <tr>\n",
       "      <th>2019-08-29 19:05:04</th>\n",
       "      <td>464</td>\n",
       "      <td>20832570</td>\n",
       "    </tr>\n",
       "    <tr>\n",
       "      <th>2019-08-29 19:05:55</th>\n",
       "      <td>1</td>\n",
       "      <td>20832573</td>\n",
       "    </tr>\n",
       "    <tr>\n",
       "      <th>2019-08-29 19:06:10</th>\n",
       "      <td>1</td>\n",
       "      <td>20832577</td>\n",
       "    </tr>\n",
       "    <tr>\n",
       "      <th>2019-08-29 19:08:49</th>\n",
       "      <td>3</td>\n",
       "      <td>20832593</td>\n",
       "    </tr>\n",
       "    <tr>\n",
       "      <th>...</th>\n",
       "      <td>...</td>\n",
       "      <td>...</td>\n",
       "    </tr>\n",
       "    <tr>\n",
       "      <th>2019-12-03 14:21:17</th>\n",
       "      <td>2</td>\n",
       "      <td>21692420</td>\n",
       "    </tr>\n",
       "    <tr>\n",
       "      <th>2019-12-03 14:22:50</th>\n",
       "      <td>1</td>\n",
       "      <td>21692430</td>\n",
       "    </tr>\n",
       "    <tr>\n",
       "      <th>2019-12-03 14:24:08</th>\n",
       "      <td>1</td>\n",
       "      <td>21692447</td>\n",
       "    </tr>\n",
       "    <tr>\n",
       "      <th>2019-12-03 14:24:32</th>\n",
       "      <td>3</td>\n",
       "      <td>21692449</td>\n",
       "    </tr>\n",
       "    <tr>\n",
       "      <th>2019-12-03 14:24:33</th>\n",
       "      <td>4</td>\n",
       "      <td>21692450</td>\n",
       "    </tr>\n",
       "  </tbody>\n",
       "</table>\n",
       "<p>79543 rows × 2 columns</p>\n",
       "</div>"
      ],
      "text/plain": [
       "                     score        id\n",
       "time                                \n",
       "2019-08-29 19:02:49      3  20832555\n",
       "2019-08-29 19:05:04    464  20832570\n",
       "2019-08-29 19:05:55      1  20832573\n",
       "2019-08-29 19:06:10      1  20832577\n",
       "2019-08-29 19:08:49      3  20832593\n",
       "...                    ...       ...\n",
       "2019-12-03 14:21:17      2  21692420\n",
       "2019-12-03 14:22:50      1  21692430\n",
       "2019-12-03 14:24:08      1  21692447\n",
       "2019-12-03 14:24:32      3  21692449\n",
       "2019-12-03 14:24:33      4  21692450\n",
       "\n",
       "[79543 rows x 2 columns]"
      ]
     },
     "execution_count": 27,
     "metadata": {},
     "output_type": "execute_result"
    }
   ],
   "source": [
    "# data['2019-08-31':'2019-08-31']\n",
    "data"
   ]
  },
  {
   "cell_type": "markdown",
   "metadata": {},
   "source": [
    "### Collect duplicates"
   ]
  },
  {
   "cell_type": "code",
   "execution_count": 28,
   "metadata": {},
   "outputs": [],
   "source": [
    "duplicates = stories_df[stories_df.duplicated('time', keep=False)==True][['score', 'id', 'time']]\n",
    "duplicates.index = pd.to_datetime(duplicates.time, unit='s')\n",
    "# duplicates.drop(columns='time', inplace=True)\n",
    "del duplicates.index.name"
   ]
  },
  {
   "cell_type": "code",
   "execution_count": 29,
   "metadata": {},
   "outputs": [
    {
     "data": {
      "text/html": [
       "<div>\n",
       "<style scoped>\n",
       "    .dataframe tbody tr th:only-of-type {\n",
       "        vertical-align: middle;\n",
       "    }\n",
       "\n",
       "    .dataframe tbody tr th {\n",
       "        vertical-align: top;\n",
       "    }\n",
       "\n",
       "    .dataframe thead th {\n",
       "        text-align: right;\n",
       "    }\n",
       "</style>\n",
       "<table border=\"1\" class=\"dataframe\">\n",
       "  <thead>\n",
       "    <tr style=\"text-align: right;\">\n",
       "      <th></th>\n",
       "      <th>score</th>\n",
       "      <th>id</th>\n",
       "      <th>time</th>\n",
       "    </tr>\n",
       "  </thead>\n",
       "  <tbody>\n",
       "    <tr>\n",
       "      <th>2019-08-30 12:39:13</th>\n",
       "      <td>45</td>\n",
       "      <td>20837923</td>\n",
       "      <td>1567168753</td>\n",
       "    </tr>\n",
       "    <tr>\n",
       "      <th>2019-08-30 12:39:13</th>\n",
       "      <td>2</td>\n",
       "      <td>20837924</td>\n",
       "      <td>1567168753</td>\n",
       "    </tr>\n",
       "    <tr>\n",
       "      <th>2019-08-30 17:51:05</th>\n",
       "      <td>2</td>\n",
       "      <td>20840834</td>\n",
       "      <td>1567187465</td>\n",
       "    </tr>\n",
       "    <tr>\n",
       "      <th>2019-08-30 17:51:05</th>\n",
       "      <td>2</td>\n",
       "      <td>20840835</td>\n",
       "      <td>1567187465</td>\n",
       "    </tr>\n",
       "    <tr>\n",
       "      <th>2019-08-30 18:52:58</th>\n",
       "      <td>53</td>\n",
       "      <td>20841455</td>\n",
       "      <td>1567191178</td>\n",
       "    </tr>\n",
       "    <tr>\n",
       "      <th>...</th>\n",
       "      <td>...</td>\n",
       "      <td>...</td>\n",
       "      <td>...</td>\n",
       "    </tr>\n",
       "    <tr>\n",
       "      <th>2019-12-02 21:49:42</th>\n",
       "      <td>3</td>\n",
       "      <td>21687387</td>\n",
       "      <td>1575323382</td>\n",
       "    </tr>\n",
       "    <tr>\n",
       "      <th>2019-12-03 10:47:21</th>\n",
       "      <td>1</td>\n",
       "      <td>21691353</td>\n",
       "      <td>1575370041</td>\n",
       "    </tr>\n",
       "    <tr>\n",
       "      <th>2019-12-03 10:47:21</th>\n",
       "      <td>1</td>\n",
       "      <td>21691354</td>\n",
       "      <td>1575370041</td>\n",
       "    </tr>\n",
       "    <tr>\n",
       "      <th>2019-12-03 14:04:56</th>\n",
       "      <td>2</td>\n",
       "      <td>21692296</td>\n",
       "      <td>1575381896</td>\n",
       "    </tr>\n",
       "    <tr>\n",
       "      <th>2019-12-03 14:04:56</th>\n",
       "      <td>1</td>\n",
       "      <td>21692297</td>\n",
       "      <td>1575381896</td>\n",
       "    </tr>\n",
       "  </tbody>\n",
       "</table>\n",
       "<p>953 rows × 3 columns</p>\n",
       "</div>"
      ],
      "text/plain": [
       "                     score        id        time\n",
       "2019-08-30 12:39:13     45  20837923  1567168753\n",
       "2019-08-30 12:39:13      2  20837924  1567168753\n",
       "2019-08-30 17:51:05      2  20840834  1567187465\n",
       "2019-08-30 17:51:05      2  20840835  1567187465\n",
       "2019-08-30 18:52:58     53  20841455  1567191178\n",
       "...                    ...       ...         ...\n",
       "2019-12-02 21:49:42      3  21687387  1575323382\n",
       "2019-12-03 10:47:21      1  21691353  1575370041\n",
       "2019-12-03 10:47:21      1  21691354  1575370041\n",
       "2019-12-03 14:04:56      2  21692296  1575381896\n",
       "2019-12-03 14:04:56      1  21692297  1575381896\n",
       "\n",
       "[953 rows x 3 columns]"
      ]
     },
     "execution_count": 29,
     "metadata": {},
     "output_type": "execute_result"
    }
   ],
   "source": [
    "duplicates"
   ]
  },
  {
   "cell_type": "code",
   "execution_count": 30,
   "metadata": {},
   "outputs": [],
   "source": [
    "g = duplicates.groupby(by=['time'], as_index=False)"
   ]
  },
  {
   "cell_type": "code",
   "execution_count": 31,
   "metadata": {},
   "outputs": [
    {
     "data": {
      "text/html": [
       "<div>\n",
       "<style scoped>\n",
       "    .dataframe tbody tr th:only-of-type {\n",
       "        vertical-align: middle;\n",
       "    }\n",
       "\n",
       "    .dataframe tbody tr th {\n",
       "        vertical-align: top;\n",
       "    }\n",
       "\n",
       "    .dataframe thead th {\n",
       "        text-align: right;\n",
       "    }\n",
       "</style>\n",
       "<table border=\"1\" class=\"dataframe\">\n",
       "  <thead>\n",
       "    <tr style=\"text-align: right;\">\n",
       "      <th></th>\n",
       "      <th>time</th>\n",
       "      <th>score</th>\n",
       "      <th>id</th>\n",
       "    </tr>\n",
       "  </thead>\n",
       "  <tbody>\n",
       "    <tr>\n",
       "      <th>0</th>\n",
       "      <td>1567168753</td>\n",
       "      <td>2</td>\n",
       "      <td>2</td>\n",
       "    </tr>\n",
       "    <tr>\n",
       "      <th>1</th>\n",
       "      <td>1567187465</td>\n",
       "      <td>2</td>\n",
       "      <td>2</td>\n",
       "    </tr>\n",
       "    <tr>\n",
       "      <th>2</th>\n",
       "      <td>1567191178</td>\n",
       "      <td>2</td>\n",
       "      <td>2</td>\n",
       "    </tr>\n",
       "    <tr>\n",
       "      <th>3</th>\n",
       "      <td>1567298991</td>\n",
       "      <td>2</td>\n",
       "      <td>2</td>\n",
       "    </tr>\n",
       "    <tr>\n",
       "      <th>4</th>\n",
       "      <td>1567346871</td>\n",
       "      <td>2</td>\n",
       "      <td>2</td>\n",
       "    </tr>\n",
       "    <tr>\n",
       "      <th>...</th>\n",
       "      <td>...</td>\n",
       "      <td>...</td>\n",
       "      <td>...</td>\n",
       "    </tr>\n",
       "    <tr>\n",
       "      <th>469</th>\n",
       "      <td>1575316857</td>\n",
       "      <td>2</td>\n",
       "      <td>2</td>\n",
       "    </tr>\n",
       "    <tr>\n",
       "      <th>470</th>\n",
       "      <td>1575318465</td>\n",
       "      <td>2</td>\n",
       "      <td>2</td>\n",
       "    </tr>\n",
       "    <tr>\n",
       "      <th>471</th>\n",
       "      <td>1575323382</td>\n",
       "      <td>2</td>\n",
       "      <td>2</td>\n",
       "    </tr>\n",
       "    <tr>\n",
       "      <th>472</th>\n",
       "      <td>1575370041</td>\n",
       "      <td>2</td>\n",
       "      <td>2</td>\n",
       "    </tr>\n",
       "    <tr>\n",
       "      <th>473</th>\n",
       "      <td>1575381896</td>\n",
       "      <td>2</td>\n",
       "      <td>2</td>\n",
       "    </tr>\n",
       "  </tbody>\n",
       "</table>\n",
       "<p>474 rows × 3 columns</p>\n",
       "</div>"
      ],
      "text/plain": [
       "           time  score  id\n",
       "0    1567168753      2   2\n",
       "1    1567187465      2   2\n",
       "2    1567191178      2   2\n",
       "3    1567298991      2   2\n",
       "4    1567346871      2   2\n",
       "..          ...    ...  ..\n",
       "469  1575316857      2   2\n",
       "470  1575318465      2   2\n",
       "471  1575323382      2   2\n",
       "472  1575370041      2   2\n",
       "473  1575381896      2   2\n",
       "\n",
       "[474 rows x 3 columns]"
      ]
     },
     "execution_count": 31,
     "metadata": {},
     "output_type": "execute_result"
    }
   ],
   "source": [
    "g.count()"
   ]
  },
  {
   "cell_type": "code",
   "execution_count": 39,
   "metadata": {
    "scrolled": false
   },
   "outputs": [
    {
     "data": {
      "text/plain": [
       "<matplotlib.axes._subplots.AxesSubplot at 0x11d55ce90>"
      ]
     },
     "execution_count": 39,
     "metadata": {},
     "output_type": "execute_result"
    },
    {
     "data": {
      "image/png": "[encoded data removed]",
      "text/plain": [
       "<Figure size 432x288 with 1 Axes>"
      ]
     },
     "metadata": {
      "needs_background": "light"
     },
     "output_type": "display_data"
    }
   ],
   "source": [
    "g.count().time.plot()\n",
    "# сгруппировать по времени дня"
   ]
  },
  {
   "cell_type": "code",
   "execution_count": 33,
   "metadata": {},
   "outputs": [
    {
     "data": {
      "text/plain": [
       "datetime.datetime(2019, 9, 3, 18, 1, 29)"
      ]
     },
     "execution_count": 33,
     "metadata": {},
     "output_type": "execute_result"
    }
   ],
   "source": [
    "datetime.fromtimestamp(1567522889)"
   ]
  },
  {
   "cell_type": "code",
   "execution_count": 34,
   "metadata": {},
   "outputs": [
    {
     "data": {
      "text/html": [
       "<div>\n",
       "<style scoped>\n",
       "    .dataframe tbody tr th:only-of-type {\n",
       "        vertical-align: middle;\n",
       "    }\n",
       "\n",
       "    .dataframe tbody tr th {\n",
       "        vertical-align: top;\n",
       "    }\n",
       "\n",
       "    .dataframe thead th {\n",
       "        text-align: right;\n",
       "    }\n",
       "</style>\n",
       "<table border=\"1\" class=\"dataframe\">\n",
       "  <thead>\n",
       "    <tr style=\"text-align: right;\">\n",
       "      <th></th>\n",
       "      <th>by</th>\n",
       "      <th>descendants</th>\n",
       "      <th>id</th>\n",
       "      <th>score</th>\n",
       "      <th>time</th>\n",
       "      <th>title</th>\n",
       "      <th>type</th>\n",
       "      <th>url</th>\n",
       "      <th>kids</th>\n",
       "      <th>text</th>\n",
       "    </tr>\n",
       "  </thead>\n",
       "  <tbody>\n",
       "    <tr>\n",
       "      <th>1</th>\n",
       "      <td>mikl</td>\n",
       "      <td>509</td>\n",
       "      <td>20832570</td>\n",
       "      <td>464</td>\n",
       "      <td>1567105504</td>\n",
       "      <td>Software made me loathe my car</td>\n",
       "      <td>story</td>\n",
       "      <td>https://mikkel.hoegh.org/2019/08/29/how-softwa...</td>\n",
       "      <td>[20833055, 20833161, 20833425, 20833181, 20835...</td>\n",
       "      <td>NaN</td>\n",
       "    </tr>\n",
       "    <tr>\n",
       "      <th>13</th>\n",
       "      <td>protomyth</td>\n",
       "      <td>3</td>\n",
       "      <td>20832688</td>\n",
       "      <td>73</td>\n",
       "      <td>1567106341</td>\n",
       "      <td>Microwatt: A Tiny Open Power ISA Softcore Writ...</td>\n",
       "      <td>story</td>\n",
       "      <td>https://github.com/antonblanchard/microwatt</td>\n",
       "      <td>[20852178, 20855559, 20855339]</td>\n",
       "      <td>NaN</td>\n",
       "    </tr>\n",
       "    <tr>\n",
       "      <th>16</th>\n",
       "      <td>headalgorithm</td>\n",
       "      <td>0</td>\n",
       "      <td>20832702</td>\n",
       "      <td>4</td>\n",
       "      <td>1567106434</td>\n",
       "      <td>Ways for Engineers to Leverage Their Social Me...</td>\n",
       "      <td>story</td>\n",
       "      <td>https://spectrum.ieee.org/at-work/tech-careers...</td>\n",
       "      <td>NaN</td>\n",
       "      <td>NaN</td>\n",
       "    </tr>\n",
       "    <tr>\n",
       "      <th>17</th>\n",
       "      <td>sooham</td>\n",
       "      <td>5</td>\n",
       "      <td>20832705</td>\n",
       "      <td>76</td>\n",
       "      <td>1567106467</td>\n",
       "      <td>“That is either genius, or a seriously disease...</td>\n",
       "      <td>story</td>\n",
       "      <td>https://lkml.org/lkml/2018/3/20/845</td>\n",
       "      <td>[20836936, 20838793, 20842116, 20851350, 20837...</td>\n",
       "      <td>NaN</td>\n",
       "    </tr>\n",
       "    <tr>\n",
       "      <th>20</th>\n",
       "      <td>headalgorithm</td>\n",
       "      <td>0</td>\n",
       "      <td>20832730</td>\n",
       "      <td>4</td>\n",
       "      <td>1567106634</td>\n",
       "      <td>How Amazon and Silicon Valley Seduced the Pent...</td>\n",
       "      <td>story</td>\n",
       "      <td>https://www.propublica.org/article/how-amazon-...</td>\n",
       "      <td>NaN</td>\n",
       "      <td>NaN</td>\n",
       "    </tr>\n",
       "    <tr>\n",
       "      <th>...</th>\n",
       "      <td>...</td>\n",
       "      <td>...</td>\n",
       "      <td>...</td>\n",
       "      <td>...</td>\n",
       "      <td>...</td>\n",
       "      <td>...</td>\n",
       "      <td>...</td>\n",
       "      <td>...</td>\n",
       "      <td>...</td>\n",
       "      <td>...</td>\n",
       "    </tr>\n",
       "    <tr>\n",
       "      <th>79521</th>\n",
       "      <td>AdmiralAsshat</td>\n",
       "      <td>58</td>\n",
       "      <td>21692341</td>\n",
       "      <td>143</td>\n",
       "      <td>1575382248</td>\n",
       "      <td>Firefox 71</td>\n",
       "      <td>story</td>\n",
       "      <td>https://www.mozilla.org/en-US/firefox/71.0/rel...</td>\n",
       "      <td>[21692520, 21692578, 21692585, 21692674, 21692...</td>\n",
       "      <td>NaN</td>\n",
       "    </tr>\n",
       "    <tr>\n",
       "      <th>79523</th>\n",
       "      <td>SolaceQuantum</td>\n",
       "      <td>125</td>\n",
       "      <td>21692353</td>\n",
       "      <td>246</td>\n",
       "      <td>1575382377</td>\n",
       "      <td>FDA bowed to industry for decades as alarms we...</td>\n",
       "      <td>story</td>\n",
       "      <td>https://www.reuters.com/investigates/special-r...</td>\n",
       "      <td>[21692607, 21697933, 21694210, 21697997, 21693...</td>\n",
       "      <td>NaN</td>\n",
       "    </tr>\n",
       "    <tr>\n",
       "      <th>79532</th>\n",
       "      <td>pcr910303</td>\n",
       "      <td>83</td>\n",
       "      <td>21692400</td>\n",
       "      <td>104</td>\n",
       "      <td>1575382769</td>\n",
       "      <td>Simple Dynamic Strings library for C, compatib...</td>\n",
       "      <td>story</td>\n",
       "      <td>https://github.com/antirez/sds</td>\n",
       "      <td>[21694164, 21692949, 21697842, 21704671, 21695...</td>\n",
       "      <td>NaN</td>\n",
       "    </tr>\n",
       "    <tr>\n",
       "      <th>79537</th>\n",
       "      <td>se7entime</td>\n",
       "      <td>127</td>\n",
       "      <td>21692418</td>\n",
       "      <td>245</td>\n",
       "      <td>1575382853</td>\n",
       "      <td>Big Pile of Vim-Like</td>\n",
       "      <td>story</td>\n",
       "      <td>https://vim.reversed.top/</td>\n",
       "      <td>[21692754, 21692690, 21692794, 21694624, 21695...</td>\n",
       "      <td>NaN</td>\n",
       "    </tr>\n",
       "    <tr>\n",
       "      <th>79542</th>\n",
       "      <td>floppydiskette</td>\n",
       "      <td>0</td>\n",
       "      <td>21692450</td>\n",
       "      <td>4</td>\n",
       "      <td>1575383073</td>\n",
       "      <td>CSS: An Art, a Science, a Nightmare</td>\n",
       "      <td>story</td>\n",
       "      <td>https://www.taniarascia.com/overview-of-css-co...</td>\n",
       "      <td>NaN</td>\n",
       "      <td>NaN</td>\n",
       "    </tr>\n",
       "  </tbody>\n",
       "</table>\n",
       "<p>22076 rows × 10 columns</p>\n",
       "</div>"
      ],
      "text/plain": [
       "                   by  descendants        id  score        time  \\\n",
       "1                mikl          509  20832570    464  1567105504   \n",
       "13          protomyth            3  20832688     73  1567106341   \n",
       "16      headalgorithm            0  20832702      4  1567106434   \n",
       "17             sooham            5  20832705     76  1567106467   \n",
       "20      headalgorithm            0  20832730      4  1567106634   \n",
       "...               ...          ...       ...    ...         ...   \n",
       "79521   AdmiralAsshat           58  21692341    143  1575382248   \n",
       "79523   SolaceQuantum          125  21692353    246  1575382377   \n",
       "79532       pcr910303           83  21692400    104  1575382769   \n",
       "79537       se7entime          127  21692418    245  1575382853   \n",
       "79542  floppydiskette            0  21692450      4  1575383073   \n",
       "\n",
       "                                                   title   type  \\\n",
       "1                         Software made me loathe my car  story   \n",
       "13     Microwatt: A Tiny Open Power ISA Softcore Writ...  story   \n",
       "16     Ways for Engineers to Leverage Their Social Me...  story   \n",
       "17     “That is either genius, or a seriously disease...  story   \n",
       "20     How Amazon and Silicon Valley Seduced the Pent...  story   \n",
       "...                                                  ...    ...   \n",
       "79521                                         Firefox 71  story   \n",
       "79523  FDA bowed to industry for decades as alarms we...  story   \n",
       "79532  Simple Dynamic Strings library for C, compatib...  story   \n",
       "79537                               Big Pile of Vim-Like  story   \n",
       "79542                CSS: An Art, a Science, a Nightmare  story   \n",
       "\n",
       "                                                     url  \\\n",
       "1      https://mikkel.hoegh.org/2019/08/29/how-softwa...   \n",
       "13           https://github.com/antonblanchard/microwatt   \n",
       "16     https://spectrum.ieee.org/at-work/tech-careers...   \n",
       "17                   https://lkml.org/lkml/2018/3/20/845   \n",
       "20     https://www.propublica.org/article/how-amazon-...   \n",
       "...                                                  ...   \n",
       "79521  https://www.mozilla.org/en-US/firefox/71.0/rel...   \n",
       "79523  https://www.reuters.com/investigates/special-r...   \n",
       "79532                     https://github.com/antirez/sds   \n",
       "79537                          https://vim.reversed.top/   \n",
       "79542  https://www.taniarascia.com/overview-of-css-co...   \n",
       "\n",
       "                                                    kids text  \n",
       "1      [20833055, 20833161, 20833425, 20833181, 20835...  NaN  \n",
       "13                        [20852178, 20855559, 20855339]  NaN  \n",
       "16                                                   NaN  NaN  \n",
       "17     [20836936, 20838793, 20842116, 20851350, 20837...  NaN  \n",
       "20                                                   NaN  NaN  \n",
       "...                                                  ...  ...  \n",
       "79521  [21692520, 21692578, 21692585, 21692674, 21692...  NaN  \n",
       "79523  [21692607, 21697933, 21694210, 21697997, 21693...  NaN  \n",
       "79532  [21694164, 21692949, 21697842, 21704671, 21695...  NaN  \n",
       "79537  [21692754, 21692690, 21692794, 21694624, 21695...  NaN  \n",
       "79542                                                NaN  NaN  \n",
       "\n",
       "[22076 rows x 10 columns]"
      ]
     },
     "execution_count": 34,
     "metadata": {},
     "output_type": "execute_result"
    }
   ],
   "source": [
    "stories_df[stories_df['score']>3]"
   ]
  },
  {
   "cell_type": "code",
   "execution_count": null,
   "metadata": {},
   "outputs": [],
   "source": []
  }
 ],
 "metadata": {
  "kernelspec": {
   "display_name": "Python 3",
   "language": "python",
   "name": "python3"
  },
  "language_info": {
   "codemirror_mode": {
    "name": "ipython",
    "version": 3
   },
   "file_extension": ".py",
   "mimetype": "text/x-python",
   "name": "python",
   "nbconvert_exporter": "python",
   "pygments_lexer": "ipython3",
   "version": "3.7.4"
  }
 },
 "nbformat": 4,
 "nbformat_minor": 2
}
