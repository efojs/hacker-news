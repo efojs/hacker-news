{
 "cells": [
  {
   "cell_type": "code",
   "execution_count": 215,
   "metadata": {},
   "outputs": [],
   "source": [
    "import json\n",
    "import pandas as pd\n",
    "import time\n",
    "from datetime import datetime"
   ]
  },
  {
   "cell_type": "markdown",
   "metadata": {},
   "source": [
    "## Load raw data"
   ]
  },
  {
   "cell_type": "code",
   "execution_count": 196,
   "metadata": {},
   "outputs": [],
   "source": [
    "# read file\n",
    "with open('./data/fetched_stories.json', 'r') as f:\n",
    "    stories = json.load(f)"
   ]
  },
  {
   "cell_type": "code",
   "execution_count": 197,
   "metadata": {},
   "outputs": [
    {
     "data": {
      "text/plain": [
       "{'by': 'paulpauper',\n",
       " 'descendants': 0,\n",
       " 'id': 21616596,\n",
       " 'score': 2,\n",
       " 'time': 1574543644,\n",
       " 'title': 'Polarizing F.I.R.E. movement sparks debate among financial professionals',\n",
       " 'type': 'story',\n",
       " 'url': 'https://www.theglobeandmail.com/investing/globe-advisor/advisor-news/article-polarizing-fire-movement-sparks-debate-among-financial/'}"
      ]
     },
     "execution_count": 197,
     "metadata": {},
     "output_type": "execute_result"
    }
   ],
   "source": [
    "stories[list(stories.keys())[-1:][0]]"
   ]
  },
  {
   "cell_type": "markdown",
   "metadata": {},
   "source": [
    "## Prepare data"
   ]
  },
  {
   "cell_type": "code",
   "execution_count": 484,
   "metadata": {},
   "outputs": [],
   "source": [
    "# create DataFrame from raw JSON\n",
    "stories_df = pd.DataFrame(stories.values())"
   ]
  },
  {
   "cell_type": "code",
   "execution_count": 485,
   "metadata": {},
   "outputs": [],
   "source": [
    "# sort data by ID\n",
    "stories_df.sort_values(by=\"id\", inplace=True)"
   ]
  },
  {
   "cell_type": "code",
   "execution_count": 486,
   "metadata": {},
   "outputs": [
    {
     "data": {
      "text/plain": [
       "(True, True)"
      ]
     },
     "execution_count": 486,
     "metadata": {},
     "output_type": "execute_result"
    }
   ],
   "source": [
    "# check order\n",
    "stories_df.id.is_monotonic, stories_df.time.is_monotonic"
   ]
  },
  {
   "cell_type": "code",
   "execution_count": 487,
   "metadata": {},
   "outputs": [
    {
     "data": {
      "text/html": [
       "<div>\n",
       "<style scoped>\n",
       "    .dataframe tbody tr th:only-of-type {\n",
       "        vertical-align: middle;\n",
       "    }\n",
       "\n",
       "    .dataframe tbody tr th {\n",
       "        vertical-align: top;\n",
       "    }\n",
       "\n",
       "    .dataframe thead th {\n",
       "        text-align: right;\n",
       "    }\n",
       "</style>\n",
       "<table border=\"1\" class=\"dataframe\">\n",
       "  <thead>\n",
       "    <tr style=\"text-align: right;\">\n",
       "      <th></th>\n",
       "      <th>by</th>\n",
       "      <th>descendants</th>\n",
       "      <th>id</th>\n",
       "      <th>score</th>\n",
       "      <th>time</th>\n",
       "      <th>title</th>\n",
       "      <th>type</th>\n",
       "      <th>url</th>\n",
       "      <th>kids</th>\n",
       "      <th>text</th>\n",
       "    </tr>\n",
       "  </thead>\n",
       "  <tbody>\n",
       "    <tr>\n",
       "      <th>72001</th>\n",
       "      <td>rwiggum</td>\n",
       "      <td>0</td>\n",
       "      <td>21616569</td>\n",
       "      <td>3</td>\n",
       "      <td>1574543433</td>\n",
       "      <td>A Trump Twitter bot using GPT2 trained on his ...</td>\n",
       "      <td>story</td>\n",
       "      <td>https://twitter.com/gpt2_trump</td>\n",
       "      <td>NaN</td>\n",
       "      <td>NaN</td>\n",
       "    </tr>\n",
       "    <tr>\n",
       "      <th>72002</th>\n",
       "      <td>paulpauper</td>\n",
       "      <td>1</td>\n",
       "      <td>21616576</td>\n",
       "      <td>1</td>\n",
       "      <td>1574543488</td>\n",
       "      <td>Why UBI Ought to Appeal to Conservatives</td>\n",
       "      <td>story</td>\n",
       "      <td>https://quillette.com/2019/11/20/why-ubi-ought...</td>\n",
       "      <td>[21617054]</td>\n",
       "      <td>NaN</td>\n",
       "    </tr>\n",
       "    <tr>\n",
       "      <th>72003</th>\n",
       "      <td>fortran77</td>\n",
       "      <td>0</td>\n",
       "      <td>21616581</td>\n",
       "      <td>1</td>\n",
       "      <td>1574543524</td>\n",
       "      <td>Russia's ‘Sandworm’ Hackers Also Targeted Andr...</td>\n",
       "      <td>story</td>\n",
       "      <td>https://www.wired.com/story/sandworm-android-m...</td>\n",
       "      <td>NaN</td>\n",
       "      <td>NaN</td>\n",
       "    </tr>\n",
       "    <tr>\n",
       "      <th>72004</th>\n",
       "      <td>fortran77</td>\n",
       "      <td>0</td>\n",
       "      <td>21616586</td>\n",
       "      <td>3</td>\n",
       "      <td>1574543581</td>\n",
       "      <td>A YouTuber with 350K Subscribers Was Hacked, T...</td>\n",
       "      <td>story</td>\n",
       "      <td>https://www.forbes.com/sites/paultassi/2019/11...</td>\n",
       "      <td>NaN</td>\n",
       "      <td>NaN</td>\n",
       "    </tr>\n",
       "    <tr>\n",
       "      <th>72005</th>\n",
       "      <td>paulpauper</td>\n",
       "      <td>0</td>\n",
       "      <td>21616596</td>\n",
       "      <td>2</td>\n",
       "      <td>1574543644</td>\n",
       "      <td>Polarizing F.I.R.E. movement sparks debate amo...</td>\n",
       "      <td>story</td>\n",
       "      <td>https://www.theglobeandmail.com/investing/glob...</td>\n",
       "      <td>NaN</td>\n",
       "      <td>NaN</td>\n",
       "    </tr>\n",
       "  </tbody>\n",
       "</table>\n",
       "</div>"
      ],
      "text/plain": [
       "               by  descendants        id  score        time  \\\n",
       "72001     rwiggum            0  21616569      3  1574543433   \n",
       "72002  paulpauper            1  21616576      1  1574543488   \n",
       "72003   fortran77            0  21616581      1  1574543524   \n",
       "72004   fortran77            0  21616586      3  1574543581   \n",
       "72005  paulpauper            0  21616596      2  1574543644   \n",
       "\n",
       "                                                   title   type  \\\n",
       "72001  A Trump Twitter bot using GPT2 trained on his ...  story   \n",
       "72002           Why UBI Ought to Appeal to Conservatives  story   \n",
       "72003  Russia's ‘Sandworm’ Hackers Also Targeted Andr...  story   \n",
       "72004  A YouTuber with 350K Subscribers Was Hacked, T...  story   \n",
       "72005  Polarizing F.I.R.E. movement sparks debate amo...  story   \n",
       "\n",
       "                                                     url        kids text  \n",
       "72001                     https://twitter.com/gpt2_trump         NaN  NaN  \n",
       "72002  https://quillette.com/2019/11/20/why-ubi-ought...  [21617054]  NaN  \n",
       "72003  https://www.wired.com/story/sandworm-android-m...         NaN  NaN  \n",
       "72004  https://www.forbes.com/sites/paultassi/2019/11...         NaN  NaN  \n",
       "72005  https://www.theglobeandmail.com/investing/glob...         NaN  NaN  "
      ]
     },
     "execution_count": 487,
     "metadata": {},
     "output_type": "execute_result"
    }
   ],
   "source": [
    "stories_df.tail()"
   ]
  },
  {
   "cell_type": "markdown",
   "metadata": {},
   "source": [
    "## Make timeseries data set"
   ]
  },
  {
   "cell_type": "code",
   "execution_count": 512,
   "metadata": {},
   "outputs": [],
   "source": [
    "data = stories_df[['score', 'id']].copy(deep=True)"
   ]
  },
  {
   "cell_type": "code",
   "execution_count": 513,
   "metadata": {},
   "outputs": [],
   "source": [
    "times = pd.to_datetime(stories_df.time, unit='s')"
   ]
  },
  {
   "cell_type": "code",
   "execution_count": 514,
   "metadata": {},
   "outputs": [
    {
     "data": {
      "text/plain": [
       "Timestamp('2019-08-29 19:02:49')"
      ]
     },
     "execution_count": 514,
     "metadata": {},
     "output_type": "execute_result"
    }
   ],
   "source": [
    "data.index = times\n",
    "data.index[0]"
   ]
  },
  {
   "cell_type": "code",
   "execution_count": 515,
   "metadata": {},
   "outputs": [
    {
     "data": {
      "text/plain": [
       "<matplotlib.axes._subplots.AxesSubplot at 0x147518c50>"
      ]
     },
     "execution_count": 515,
     "metadata": {},
     "output_type": "execute_result"
    },
    {
     "data": {
      "image/png": "[encoded data removed]",
      "text/plain": [
       "<Figure size 432x288 with 1 Axes>"
      ]
     },
     "metadata": {
      "needs_background": "light"
     },
     "output_type": "display_data"
    }
   ],
   "source": [
    "data['score'].plot()"
   ]
  },
  {
   "cell_type": "code",
   "execution_count": 516,
   "metadata": {},
   "outputs": [
    {
     "data": {
      "text/plain": [
       "72006"
      ]
     },
     "execution_count": 516,
     "metadata": {},
     "output_type": "execute_result"
    }
   ],
   "source": [
    "len(data)"
   ]
  },
  {
   "cell_type": "code",
   "execution_count": 627,
   "metadata": {
    "scrolled": false
   },
   "outputs": [
    {
     "data": {
      "text/html": [
       "<div>\n",
       "<style scoped>\n",
       "    .dataframe tbody tr th:only-of-type {\n",
       "        vertical-align: middle;\n",
       "    }\n",
       "\n",
       "    .dataframe tbody tr th {\n",
       "        vertical-align: top;\n",
       "    }\n",
       "\n",
       "    .dataframe thead th {\n",
       "        text-align: right;\n",
       "    }\n",
       "</style>\n",
       "<table border=\"1\" class=\"dataframe\">\n",
       "  <thead>\n",
       "    <tr style=\"text-align: right;\">\n",
       "      <th></th>\n",
       "      <th>score</th>\n",
       "      <th>id</th>\n",
       "    </tr>\n",
       "    <tr>\n",
       "      <th>time</th>\n",
       "      <th></th>\n",
       "      <th></th>\n",
       "    </tr>\n",
       "  </thead>\n",
       "  <tbody>\n",
       "    <tr>\n",
       "      <th>2019-08-29 19:02:49</th>\n",
       "      <td>3</td>\n",
       "      <td>20832555</td>\n",
       "    </tr>\n",
       "    <tr>\n",
       "      <th>2019-08-29 19:05:04</th>\n",
       "      <td>464</td>\n",
       "      <td>20832570</td>\n",
       "    </tr>\n",
       "    <tr>\n",
       "      <th>2019-08-29 19:05:55</th>\n",
       "      <td>1</td>\n",
       "      <td>20832573</td>\n",
       "    </tr>\n",
       "    <tr>\n",
       "      <th>2019-08-29 19:06:10</th>\n",
       "      <td>1</td>\n",
       "      <td>20832577</td>\n",
       "    </tr>\n",
       "    <tr>\n",
       "      <th>2019-08-29 19:08:49</th>\n",
       "      <td>3</td>\n",
       "      <td>20832593</td>\n",
       "    </tr>\n",
       "    <tr>\n",
       "      <th>...</th>\n",
       "      <td>...</td>\n",
       "      <td>...</td>\n",
       "    </tr>\n",
       "    <tr>\n",
       "      <th>2019-11-23 21:10:33</th>\n",
       "      <td>3</td>\n",
       "      <td>21616569</td>\n",
       "    </tr>\n",
       "    <tr>\n",
       "      <th>2019-11-23 21:11:28</th>\n",
       "      <td>1</td>\n",
       "      <td>21616576</td>\n",
       "    </tr>\n",
       "    <tr>\n",
       "      <th>2019-11-23 21:12:04</th>\n",
       "      <td>1</td>\n",
       "      <td>21616581</td>\n",
       "    </tr>\n",
       "    <tr>\n",
       "      <th>2019-11-23 21:13:01</th>\n",
       "      <td>3</td>\n",
       "      <td>21616586</td>\n",
       "    </tr>\n",
       "    <tr>\n",
       "      <th>2019-11-23 21:14:04</th>\n",
       "      <td>2</td>\n",
       "      <td>21616596</td>\n",
       "    </tr>\n",
       "  </tbody>\n",
       "</table>\n",
       "<p>72006 rows × 2 columns</p>\n",
       "</div>"
      ],
      "text/plain": [
       "                     score        id\n",
       "time                                \n",
       "2019-08-29 19:02:49      3  20832555\n",
       "2019-08-29 19:05:04    464  20832570\n",
       "2019-08-29 19:05:55      1  20832573\n",
       "2019-08-29 19:06:10      1  20832577\n",
       "2019-08-29 19:08:49      3  20832593\n",
       "...                    ...       ...\n",
       "2019-11-23 21:10:33      3  21616569\n",
       "2019-11-23 21:11:28      1  21616576\n",
       "2019-11-23 21:12:04      1  21616581\n",
       "2019-11-23 21:13:01      3  21616586\n",
       "2019-11-23 21:14:04      2  21616596\n",
       "\n",
       "[72006 rows x 2 columns]"
      ]
     },
     "execution_count": 627,
     "metadata": {},
     "output_type": "execute_result"
    }
   ],
   "source": [
    "# data['2019-08-31':'2019-08-31']\n",
    "data"
   ]
  },
  {
   "cell_type": "markdown",
   "metadata": {},
   "source": [
    "### Collect duplicates"
   ]
  },
  {
   "cell_type": "code",
   "execution_count": 599,
   "metadata": {},
   "outputs": [],
   "source": [
    "duplicates = stories_df[stories_df.duplicated('time', keep=False)==True][['score', 'id', 'time']]\n",
    "duplicates.index = pd.to_datetime(duplicates.time, unit='s')\n",
    "# duplicates.drop(columns='time', inplace=True)\n",
    "del duplicates.index.name"
   ]
  },
  {
   "cell_type": "code",
   "execution_count": 609,
   "metadata": {},
   "outputs": [
    {
     "data": {
      "text/html": [
       "<div>\n",
       "<style scoped>\n",
       "    .dataframe tbody tr th:only-of-type {\n",
       "        vertical-align: middle;\n",
       "    }\n",
       "\n",
       "    .dataframe tbody tr th {\n",
       "        vertical-align: top;\n",
       "    }\n",
       "\n",
       "    .dataframe thead th {\n",
       "        text-align: right;\n",
       "    }\n",
       "</style>\n",
       "<table border=\"1\" class=\"dataframe\">\n",
       "  <thead>\n",
       "    <tr style=\"text-align: right;\">\n",
       "      <th></th>\n",
       "      <th>score</th>\n",
       "      <th>id</th>\n",
       "      <th>time</th>\n",
       "    </tr>\n",
       "  </thead>\n",
       "  <tbody>\n",
       "    <tr>\n",
       "      <th>2019-08-30 12:39:13</th>\n",
       "      <td>45</td>\n",
       "      <td>20837923</td>\n",
       "      <td>1567168753</td>\n",
       "    </tr>\n",
       "    <tr>\n",
       "      <th>2019-08-30 12:39:13</th>\n",
       "      <td>2</td>\n",
       "      <td>20837924</td>\n",
       "      <td>1567168753</td>\n",
       "    </tr>\n",
       "    <tr>\n",
       "      <th>2019-08-30 17:51:05</th>\n",
       "      <td>2</td>\n",
       "      <td>20840834</td>\n",
       "      <td>1567187465</td>\n",
       "    </tr>\n",
       "    <tr>\n",
       "      <th>2019-08-30 17:51:05</th>\n",
       "      <td>2</td>\n",
       "      <td>20840835</td>\n",
       "      <td>1567187465</td>\n",
       "    </tr>\n",
       "    <tr>\n",
       "      <th>2019-08-30 18:52:58</th>\n",
       "      <td>53</td>\n",
       "      <td>20841455</td>\n",
       "      <td>1567191178</td>\n",
       "    </tr>\n",
       "    <tr>\n",
       "      <th>...</th>\n",
       "      <td>...</td>\n",
       "      <td>...</td>\n",
       "      <td>...</td>\n",
       "    </tr>\n",
       "    <tr>\n",
       "      <th>2019-11-22 20:00:55</th>\n",
       "      <td>5</td>\n",
       "      <td>21609449</td>\n",
       "      <td>1574452855</td>\n",
       "    </tr>\n",
       "    <tr>\n",
       "      <th>2019-11-23 13:53:44</th>\n",
       "      <td>4</td>\n",
       "      <td>21614097</td>\n",
       "      <td>1574517224</td>\n",
       "    </tr>\n",
       "    <tr>\n",
       "      <th>2019-11-23 13:53:44</th>\n",
       "      <td>2</td>\n",
       "      <td>21614098</td>\n",
       "      <td>1574517224</td>\n",
       "    </tr>\n",
       "    <tr>\n",
       "      <th>2019-11-23 14:02:38</th>\n",
       "      <td>1</td>\n",
       "      <td>21614140</td>\n",
       "      <td>1574517758</td>\n",
       "    </tr>\n",
       "    <tr>\n",
       "      <th>2019-11-23 14:02:38</th>\n",
       "      <td>1</td>\n",
       "      <td>21614141</td>\n",
       "      <td>1574517758</td>\n",
       "    </tr>\n",
       "  </tbody>\n",
       "</table>\n",
       "<p>875 rows × 3 columns</p>\n",
       "</div>"
      ],
      "text/plain": [
       "                     score        id        time\n",
       "2019-08-30 12:39:13     45  20837923  1567168753\n",
       "2019-08-30 12:39:13      2  20837924  1567168753\n",
       "2019-08-30 17:51:05      2  20840834  1567187465\n",
       "2019-08-30 17:51:05      2  20840835  1567187465\n",
       "2019-08-30 18:52:58     53  20841455  1567191178\n",
       "...                    ...       ...         ...\n",
       "2019-11-22 20:00:55      5  21609449  1574452855\n",
       "2019-11-23 13:53:44      4  21614097  1574517224\n",
       "2019-11-23 13:53:44      2  21614098  1574517224\n",
       "2019-11-23 14:02:38      1  21614140  1574517758\n",
       "2019-11-23 14:02:38      1  21614141  1574517758\n",
       "\n",
       "[875 rows x 3 columns]"
      ]
     },
     "execution_count": 609,
     "metadata": {},
     "output_type": "execute_result"
    }
   ],
   "source": [
    "duplicates"
   ]
  },
  {
   "cell_type": "code",
   "execution_count": 624,
   "metadata": {},
   "outputs": [],
   "source": [
    "g = duplicates.groupby(by=['time'], as_index=False)"
   ]
  },
  {
   "cell_type": "code",
   "execution_count": 625,
   "metadata": {},
   "outputs": [
    {
     "data": {
      "text/html": [
       "<div>\n",
       "<style scoped>\n",
       "    .dataframe tbody tr th:only-of-type {\n",
       "        vertical-align: middle;\n",
       "    }\n",
       "\n",
       "    .dataframe tbody tr th {\n",
       "        vertical-align: top;\n",
       "    }\n",
       "\n",
       "    .dataframe thead th {\n",
       "        text-align: right;\n",
       "    }\n",
       "</style>\n",
       "<table border=\"1\" class=\"dataframe\">\n",
       "  <thead>\n",
       "    <tr style=\"text-align: right;\">\n",
       "      <th></th>\n",
       "      <th>time</th>\n",
       "      <th>score</th>\n",
       "      <th>id</th>\n",
       "    </tr>\n",
       "  </thead>\n",
       "  <tbody>\n",
       "    <tr>\n",
       "      <th>0</th>\n",
       "      <td>1567168753</td>\n",
       "      <td>2</td>\n",
       "      <td>2</td>\n",
       "    </tr>\n",
       "    <tr>\n",
       "      <th>1</th>\n",
       "      <td>1567187465</td>\n",
       "      <td>2</td>\n",
       "      <td>2</td>\n",
       "    </tr>\n",
       "    <tr>\n",
       "      <th>2</th>\n",
       "      <td>1567191178</td>\n",
       "      <td>2</td>\n",
       "      <td>2</td>\n",
       "    </tr>\n",
       "    <tr>\n",
       "      <th>3</th>\n",
       "      <td>1567298991</td>\n",
       "      <td>2</td>\n",
       "      <td>2</td>\n",
       "    </tr>\n",
       "    <tr>\n",
       "      <th>4</th>\n",
       "      <td>1567346871</td>\n",
       "      <td>2</td>\n",
       "      <td>2</td>\n",
       "    </tr>\n",
       "    <tr>\n",
       "      <th>...</th>\n",
       "      <td>...</td>\n",
       "      <td>...</td>\n",
       "      <td>...</td>\n",
       "    </tr>\n",
       "    <tr>\n",
       "      <th>430</th>\n",
       "      <td>1574441872</td>\n",
       "      <td>2</td>\n",
       "      <td>2</td>\n",
       "    </tr>\n",
       "    <tr>\n",
       "      <th>431</th>\n",
       "      <td>1574449888</td>\n",
       "      <td>2</td>\n",
       "      <td>2</td>\n",
       "    </tr>\n",
       "    <tr>\n",
       "      <th>432</th>\n",
       "      <td>1574452855</td>\n",
       "      <td>2</td>\n",
       "      <td>2</td>\n",
       "    </tr>\n",
       "    <tr>\n",
       "      <th>433</th>\n",
       "      <td>1574517224</td>\n",
       "      <td>2</td>\n",
       "      <td>2</td>\n",
       "    </tr>\n",
       "    <tr>\n",
       "      <th>434</th>\n",
       "      <td>1574517758</td>\n",
       "      <td>2</td>\n",
       "      <td>2</td>\n",
       "    </tr>\n",
       "  </tbody>\n",
       "</table>\n",
       "<p>435 rows × 3 columns</p>\n",
       "</div>"
      ],
      "text/plain": [
       "           time  score  id\n",
       "0    1567168753      2   2\n",
       "1    1567187465      2   2\n",
       "2    1567191178      2   2\n",
       "3    1567298991      2   2\n",
       "4    1567346871      2   2\n",
       "..          ...    ...  ..\n",
       "430  1574441872      2   2\n",
       "431  1574449888      2   2\n",
       "432  1574452855      2   2\n",
       "433  1574517224      2   2\n",
       "434  1574517758      2   2\n",
       "\n",
       "[435 rows x 3 columns]"
      ]
     },
     "execution_count": 625,
     "metadata": {},
     "output_type": "execute_result"
    }
   ],
   "source": [
    "g.count()"
   ]
  },
  {
   "cell_type": "code",
   "execution_count": 626,
   "metadata": {
    "scrolled": false
   },
   "outputs": [
    {
     "data": {
      "text/plain": [
       "<matplotlib.axes._subplots.AxesSubplot at 0x14d9f7f50>"
      ]
     },
     "execution_count": 626,
     "metadata": {},
     "output_type": "execute_result"
    },
    {
     "data": {
      "image/png": "[encoded data removed]",
      "text/plain": [
       "<Figure size 432x288 with 1 Axes>"
      ]
     },
     "metadata": {
      "needs_background": "light"
     },
     "output_type": "display_data"
    }
   ],
   "source": [
    "g.count().time.plot()\n",
    "# сгруппировать по времени дня"
   ]
  },
  {
   "cell_type": "code",
   "execution_count": 628,
   "metadata": {},
   "outputs": [
    {
     "data": {
      "text/plain": [
       "datetime.datetime(2019, 9, 3, 18, 1, 29)"
      ]
     },
     "execution_count": 628,
     "metadata": {},
     "output_type": "execute_result"
    }
   ],
   "source": [
    "datetime.fromtimestamp(1567522889)"
   ]
  },
  {
   "cell_type": "code",
   "execution_count": 630,
   "metadata": {},
   "outputs": [
    {
     "data": {
      "text/html": [
       "<div>\n",
       "<style scoped>\n",
       "    .dataframe tbody tr th:only-of-type {\n",
       "        vertical-align: middle;\n",
       "    }\n",
       "\n",
       "    .dataframe tbody tr th {\n",
       "        vertical-align: top;\n",
       "    }\n",
       "\n",
       "    .dataframe thead th {\n",
       "        text-align: right;\n",
       "    }\n",
       "</style>\n",
       "<table border=\"1\" class=\"dataframe\">\n",
       "  <thead>\n",
       "    <tr style=\"text-align: right;\">\n",
       "      <th></th>\n",
       "      <th>by</th>\n",
       "      <th>descendants</th>\n",
       "      <th>id</th>\n",
       "      <th>score</th>\n",
       "      <th>time</th>\n",
       "      <th>title</th>\n",
       "      <th>type</th>\n",
       "      <th>url</th>\n",
       "      <th>kids</th>\n",
       "      <th>text</th>\n",
       "    </tr>\n",
       "  </thead>\n",
       "  <tbody>\n",
       "    <tr>\n",
       "      <th>12745</th>\n",
       "      <td>mikl</td>\n",
       "      <td>509</td>\n",
       "      <td>20832570</td>\n",
       "      <td>464</td>\n",
       "      <td>1567105504</td>\n",
       "      <td>Software made me loathe my car</td>\n",
       "      <td>story</td>\n",
       "      <td>https://mikkel.hoegh.org/2019/08/29/how-softwa...</td>\n",
       "      <td>[20833055, 20833161, 20833425, 20833181, 20835...</td>\n",
       "      <td>NaN</td>\n",
       "    </tr>\n",
       "    <tr>\n",
       "      <th>12755</th>\n",
       "      <td>protomyth</td>\n",
       "      <td>3</td>\n",
       "      <td>20832688</td>\n",
       "      <td>73</td>\n",
       "      <td>1567106341</td>\n",
       "      <td>Microwatt: A Tiny Open Power ISA Softcore Writ...</td>\n",
       "      <td>story</td>\n",
       "      <td>https://github.com/antonblanchard/microwatt</td>\n",
       "      <td>[20852178, 20855559, 20855339]</td>\n",
       "      <td>NaN</td>\n",
       "    </tr>\n",
       "    <tr>\n",
       "      <th>12758</th>\n",
       "      <td>headalgorithm</td>\n",
       "      <td>0</td>\n",
       "      <td>20832702</td>\n",
       "      <td>4</td>\n",
       "      <td>1567106434</td>\n",
       "      <td>Ways for Engineers to Leverage Their Social Me...</td>\n",
       "      <td>story</td>\n",
       "      <td>https://spectrum.ieee.org/at-work/tech-careers...</td>\n",
       "      <td>NaN</td>\n",
       "      <td>NaN</td>\n",
       "    </tr>\n",
       "    <tr>\n",
       "      <th>12759</th>\n",
       "      <td>sooham</td>\n",
       "      <td>5</td>\n",
       "      <td>20832705</td>\n",
       "      <td>76</td>\n",
       "      <td>1567106467</td>\n",
       "      <td>“That is either genius, or a seriously disease...</td>\n",
       "      <td>story</td>\n",
       "      <td>https://lkml.org/lkml/2018/3/20/845</td>\n",
       "      <td>[20836936, 20838793, 20842116, 20851350, 20837...</td>\n",
       "      <td>NaN</td>\n",
       "    </tr>\n",
       "    <tr>\n",
       "      <th>12762</th>\n",
       "      <td>headalgorithm</td>\n",
       "      <td>0</td>\n",
       "      <td>20832730</td>\n",
       "      <td>4</td>\n",
       "      <td>1567106634</td>\n",
       "      <td>How Amazon and Silicon Valley Seduced the Pent...</td>\n",
       "      <td>story</td>\n",
       "      <td>https://www.propublica.org/article/how-amazon-...</td>\n",
       "      <td>NaN</td>\n",
       "      <td>NaN</td>\n",
       "    </tr>\n",
       "    <tr>\n",
       "      <th>...</th>\n",
       "      <td>...</td>\n",
       "      <td>...</td>\n",
       "      <td>...</td>\n",
       "      <td>...</td>\n",
       "      <td>...</td>\n",
       "      <td>...</td>\n",
       "      <td>...</td>\n",
       "      <td>...</td>\n",
       "      <td>...</td>\n",
       "      <td>...</td>\n",
       "    </tr>\n",
       "    <tr>\n",
       "      <th>71985</th>\n",
       "      <td>praveenscience</td>\n",
       "      <td>62</td>\n",
       "      <td>21616381</td>\n",
       "      <td>141</td>\n",
       "      <td>1574541539</td>\n",
       "      <td>Have scientists discovered a fifth force of na...</td>\n",
       "      <td>story</td>\n",
       "      <td>https://www.telegraph.co.uk/news/2019/11/23/ha...</td>\n",
       "      <td>[21616530, 21617237, 21616507, 21616531, 21616...</td>\n",
       "      <td>NaN</td>\n",
       "    </tr>\n",
       "    <tr>\n",
       "      <th>71986</th>\n",
       "      <td>JumpCrisscross</td>\n",
       "      <td>0</td>\n",
       "      <td>21616387</td>\n",
       "      <td>5</td>\n",
       "      <td>1574541592</td>\n",
       "      <td>Would-Be Chinese Defector Details Covert Campa...</td>\n",
       "      <td>story</td>\n",
       "      <td>https://www.nytimes.com/2019/11/22/world/asia/...</td>\n",
       "      <td>NaN</td>\n",
       "      <td>NaN</td>\n",
       "    </tr>\n",
       "    <tr>\n",
       "      <th>71992</th>\n",
       "      <td>firstbase</td>\n",
       "      <td>160</td>\n",
       "      <td>21616463</td>\n",
       "      <td>121</td>\n",
       "      <td>1574542377</td>\n",
       "      <td>What I have learned from my suicidal patients</td>\n",
       "      <td>story</td>\n",
       "      <td>https://www.theguardian.com/lifeandstyle/2019/...</td>\n",
       "      <td>[21617086, 21617002, 21617339, 21617536, 21622...</td>\n",
       "      <td>NaN</td>\n",
       "    </tr>\n",
       "    <tr>\n",
       "      <th>71994</th>\n",
       "      <td>allovernow</td>\n",
       "      <td>10</td>\n",
       "      <td>21616469</td>\n",
       "      <td>23</td>\n",
       "      <td>1574542398</td>\n",
       "      <td>The Yellow Fleet (2018)</td>\n",
       "      <td>story</td>\n",
       "      <td>https://www.amusingplanet.com/2018/09/how-war-...</td>\n",
       "      <td>[21623834, 21624172, 21622521, 21623778]</td>\n",
       "      <td>NaN</td>\n",
       "    </tr>\n",
       "    <tr>\n",
       "      <th>71999</th>\n",
       "      <td>ignored</td>\n",
       "      <td>58</td>\n",
       "      <td>21616518</td>\n",
       "      <td>82</td>\n",
       "      <td>1574542902</td>\n",
       "      <td>Reinvigorating the most important battle in ec...</td>\n",
       "      <td>story</td>\n",
       "      <td>https://palladiummag.com/2019/11/21/mariana-ma...</td>\n",
       "      <td>[21623499, 21621454, 21622181, 21621291, 21622...</td>\n",
       "      <td>NaN</td>\n",
       "    </tr>\n",
       "  </tbody>\n",
       "</table>\n",
       "<p>19821 rows × 10 columns</p>\n",
       "</div>"
      ],
      "text/plain": [
       "                   by  descendants        id  score        time  \\\n",
       "12745            mikl          509  20832570    464  1567105504   \n",
       "12755       protomyth            3  20832688     73  1567106341   \n",
       "12758   headalgorithm            0  20832702      4  1567106434   \n",
       "12759          sooham            5  20832705     76  1567106467   \n",
       "12762   headalgorithm            0  20832730      4  1567106634   \n",
       "...               ...          ...       ...    ...         ...   \n",
       "71985  praveenscience           62  21616381    141  1574541539   \n",
       "71986  JumpCrisscross            0  21616387      5  1574541592   \n",
       "71992       firstbase          160  21616463    121  1574542377   \n",
       "71994      allovernow           10  21616469     23  1574542398   \n",
       "71999         ignored           58  21616518     82  1574542902   \n",
       "\n",
       "                                                   title   type  \\\n",
       "12745                     Software made me loathe my car  story   \n",
       "12755  Microwatt: A Tiny Open Power ISA Softcore Writ...  story   \n",
       "12758  Ways for Engineers to Leverage Their Social Me...  story   \n",
       "12759  “That is either genius, or a seriously disease...  story   \n",
       "12762  How Amazon and Silicon Valley Seduced the Pent...  story   \n",
       "...                                                  ...    ...   \n",
       "71985  Have scientists discovered a fifth force of na...  story   \n",
       "71986  Would-Be Chinese Defector Details Covert Campa...  story   \n",
       "71992      What I have learned from my suicidal patients  story   \n",
       "71994                            The Yellow Fleet (2018)  story   \n",
       "71999  Reinvigorating the most important battle in ec...  story   \n",
       "\n",
       "                                                     url  \\\n",
       "12745  https://mikkel.hoegh.org/2019/08/29/how-softwa...   \n",
       "12755        https://github.com/antonblanchard/microwatt   \n",
       "12758  https://spectrum.ieee.org/at-work/tech-careers...   \n",
       "12759                https://lkml.org/lkml/2018/3/20/845   \n",
       "12762  https://www.propublica.org/article/how-amazon-...   \n",
       "...                                                  ...   \n",
       "71985  https://www.telegraph.co.uk/news/2019/11/23/ha...   \n",
       "71986  https://www.nytimes.com/2019/11/22/world/asia/...   \n",
       "71992  https://www.theguardian.com/lifeandstyle/2019/...   \n",
       "71994  https://www.amusingplanet.com/2018/09/how-war-...   \n",
       "71999  https://palladiummag.com/2019/11/21/mariana-ma...   \n",
       "\n",
       "                                                    kids text  \n",
       "12745  [20833055, 20833161, 20833425, 20833181, 20835...  NaN  \n",
       "12755                     [20852178, 20855559, 20855339]  NaN  \n",
       "12758                                                NaN  NaN  \n",
       "12759  [20836936, 20838793, 20842116, 20851350, 20837...  NaN  \n",
       "12762                                                NaN  NaN  \n",
       "...                                                  ...  ...  \n",
       "71985  [21616530, 21617237, 21616507, 21616531, 21616...  NaN  \n",
       "71986                                                NaN  NaN  \n",
       "71992  [21617086, 21617002, 21617339, 21617536, 21622...  NaN  \n",
       "71994           [21623834, 21624172, 21622521, 21623778]  NaN  \n",
       "71999  [21623499, 21621454, 21622181, 21621291, 21622...  NaN  \n",
       "\n",
       "[19821 rows x 10 columns]"
      ]
     },
     "execution_count": 630,
     "metadata": {},
     "output_type": "execute_result"
    }
   ],
   "source": [
    "stories_df[stories_df['score']>3]"
   ]
  },
  {
   "cell_type": "code",
   "execution_count": null,
   "metadata": {},
   "outputs": [],
   "source": []
  }
 ],
 "metadata": {
  "kernelspec": {
   "display_name": "Python 3",
   "language": "python",
   "name": "python3"
  },
  "language_info": {
   "codemirror_mode": {
    "name": "ipython",
    "version": 3
   },
   "file_extension": ".py",
   "mimetype": "text/x-python",
   "name": "python",
   "nbconvert_exporter": "python",
   "pygments_lexer": "ipython3",
   "version": "3.7.4"
  }
 },
 "nbformat": 4,
 "nbformat_minor": 2
}
